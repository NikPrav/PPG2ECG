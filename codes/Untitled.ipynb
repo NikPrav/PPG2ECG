{
 "cells": [
  {
   "cell_type": "code",
   "execution_count": 2,
   "id": "6b177c3b-bd17-4bff-891f-9fd6d1212cc2",
   "metadata": {},
   "outputs": [],
   "source": [
    "import pandas as pd\n",
    "import os\n",
    "\n",
    "import glob"
   ]
  },
  {
   "cell_type": "code",
   "execution_count": 8,
   "id": "bf5f60e0-7038-4c88-a181-cf01dff8312a",
   "metadata": {},
   "outputs": [],
   "source": [
    "path = \"datasets/physionet.org/files/bidmc/1.0.0/bidmc_csv\""
   ]
  },
  {
   "cell_type": "code",
   "execution_count": 14,
   "id": "92db04e1-fa81-4fa6-ae2b-b6c36f7cf339",
   "metadata": {},
   "outputs": [
    {
     "name": "stdout",
     "output_type": "stream",
     "text": [
      "53\n"
     ]
    }
   ],
   "source": [
    "file_list = glob.glob(f'{path}/*Signals.csv')\n",
    "\n",
    "print(len(file_list))"
   ]
  },
  {
   "cell_type": "code",
   "execution_count": null,
   "id": "0a4328e1-3a2e-48b9-a2ce-e31383b0925d",
   "metadata": {},
   "outputs": [],
   "source": [
    "m_df = \n",
    "for i in file_list:\n",
    "    df = pd.read_csv(f'{path}/{i}')\n",
    "    columns = [' RESP', ' V', ' AVR']\n",
    "    # df.drop(columns, inplace=True, axis=1)\n",
    "    t_ref = df['Time [s]'].to_numpy()\n",
    "    ppg = df[' PLETH'].to_numpy()\n",
    "    ecg = df[' II'].to_numpy()"
   ]
  }
 ],
 "metadata": {
  "kernelspec": {
   "display_name": "ppg2ecg_v2",
   "language": "python",
   "name": "ppg2ecg_v2"
  },
  "language_info": {
   "codemirror_mode": {
    "name": "ipython",
    "version": 3
   },
   "file_extension": ".py",
   "mimetype": "text/x-python",
   "name": "python",
   "nbconvert_exporter": "python",
   "pygments_lexer": "ipython3",
   "version": "3.7.5"
  }
 },
 "nbformat": 4,
 "nbformat_minor": 5
}
